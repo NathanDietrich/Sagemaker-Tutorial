{
 "cells": [
  {
   "cell_type": "markdown",
   "metadata": {},
   "source": [
    "## Step 1: Import Packages and Declare Constants"
   ]
  },
  {
   "cell_type": "code",
   "execution_count": 21,
   "metadata": {},
   "outputs": [],
   "source": [
    "import boto3\n",
    "import sagemaker\n",
    "import datetime as dt\n",
    "import pandas as pd"
   ]
  },
  {
   "cell_type": "code",
   "execution_count": 22,
   "metadata": {},
   "outputs": [],
   "source": [
    "#Replace this value with the S3 Bucket Created\n",
    "default_bucket = \"storeretaildatasetchurnpredictiontest\""
   ]
  },
  {
   "cell_type": "code",
   "execution_count": 23,
   "metadata": {},
   "outputs": [],
   "source": [
    "region = boto3.Session().region_name\n",
    "role = sagemaker.get_execution_role()\n",
    "sagemaker_session = sagemaker.Session()\n",
    "sklearn_processor_version=\"0.23-1\"\n",
    "model_package_group_name=\"ChurnModelPackageGroup\"\n",
    "pipeline_name= \"ChurnModelSMPipeline\"\n",
    "clarify_image = sagemaker.image_uris.retrieve(framework='sklearn',version=sklearn_processor_version,region=region)"
   ]
  },
  {
   "cell_type": "markdown",
   "metadata": {},
   "source": [
    "## Step 2: Generate Baseline Dataset\n",
    "\n",
    "Baseline Data will be used as part of SageMaker Clarify Step to generate SHAP Values "
   ]
  },
  {
   "cell_type": "code",
   "execution_count": 24,
   "metadata": {},
   "outputs": [],
   "source": [
    "def preprocess_data(file_path):\n",
    "    df = pd.read_csv(file_path)\n",
    "    ## Convert to datetime columns\n",
    "    df[\"firstorder\"]=pd.to_datetime(df[\"firstorder\"],errors='coerce')\n",
    "    df[\"lastorder\"] = pd.to_datetime(df[\"lastorder\"],errors='coerce')\n",
    "    ## Drop Rows with null values\n",
    "    df = df.dropna()\n",
    "    ## Create Column which gives the days between the last order and the first order\n",
    "    df[\"first_last_days_diff\"] = (df['lastorder']-df['firstorder']).dt.days\n",
    "    ## Create Column which gives the days between when the customer record was created and the first order\n",
    "    df['created'] = pd.to_datetime(df['created'])\n",
    "    df['created_first_days_diff']=(df['created']-df['firstorder']).dt.days\n",
    "    ## Drop Columns\n",
    "    df.drop(['custid','created','firstorder','lastorder'],axis=1,inplace=True)\n",
    "    ## Apply one hot encoding on favday and city columns\n",
    "    df = pd.get_dummies(df,prefix=['favday','city'],columns=['favday','city'])\n",
    "    return df"
   ]
  },
  {
   "cell_type": "code",
   "execution_count": 38,
   "metadata": {},
   "outputs": [],
   "source": [
    "baseline_data = preprocess_data(f\"s3://{default_bucket}/data/storedata_total.csv\")\n",
    "baseline_data.pop(\"retained\")\n",
    "baseline_sample = baseline_data.sample(frac=0.0002)"
   ]
  },
  {
   "cell_type": "code",
   "execution_count": 39,
   "metadata": {},
   "outputs": [],
   "source": [
    "pd.DataFrame(baseline_sample).to_csv(f\"s3://{default_bucket}/data/baseline.csv\",header=False,index=False)\n"
   ]
  },
  {
   "cell_type": "markdown",
   "metadata": {},
   "source": [
    "## Step 3: Generate Batch Dataset"
   ]
  },
  {
   "cell_type": "code",
   "execution_count": 40,
   "metadata": {},
   "outputs": [],
   "source": [
    "batch_data = preprocess_data(f\"s3://{default_bucket}/data/storedata_total.csv\")\n",
    "batch_data.pop(\"retained\")\n",
    "batch_sample = batch_data.sample(frac=0.2)"
   ]
  },
  {
   "cell_type": "code",
   "execution_count": 42,
   "metadata": {},
   "outputs": [],
   "source": [
    "pd.DataFrame(batch_sample).to_csv(f\"s3://{default_bucket}/data/batch.csv\",header=False,index=False)"
   ]
  },
  {
   "cell_type": "markdown",
   "metadata": {},
   "source": [
    "## Step 4: Copy Data and Scripts to S3 Bucket"
   ]
  },
  {
   "cell_type": "code",
   "execution_count": 45,
   "metadata": {},
   "outputs": [],
   "source": [
    "#already did in previous steps\n",
    "# s3_client = boto3.resource('s3')\n",
    "# s3_client.Bucket(default_bucket).upload_file(\"data/storedata_total.csv\",\"data/storedata_total.csv\")\n",
    "# s3_client.Bucket(default_bucket).upload_file(\"data/batch.csv\",\"data/batch/batch.csv\")\n",
    "# s3_client.Bucket(default_bucket).upload_file(\"data/baseline.csv\",\"input/baseline/baseline.csv\")"
   ]
  },
  {
   "cell_type": "code",
   "execution_count": 46,
   "metadata": {},
   "outputs": [],
   "source": [
    "s3_client.Bucket(default_bucket).upload_file(\"pipelines/customerchurn/preprocess.py\",\"input/code/preprocess.py\")\n",
    "s3_client.Bucket(default_bucket).upload_file(\"pipelines/customerchurn/evaluate.py\",\"input/code/evaluate.py\")\n",
    "s3_client.Bucket(default_bucket).upload_file(\"pipelines/customerchurn/generate_config.py\",\"input/code/generate_config.py\")"
   ]
  },
  {
   "cell_type": "markdown",
   "metadata": {},
   "source": [
    "## Step 5: Get the Pipeline Instance"
   ]
  },
  {
   "cell_type": "code",
   "execution_count": 47,
   "metadata": {},
   "outputs": [
    {
     "name": "stderr",
     "output_type": "stream",
     "text": [
      "WARNING:sagemaker.workflow.utilities:The input argument instance_type of function (sagemaker.image_uris.retrieve) is a pipeline variable (<class 'sagemaker.workflow.parameters.ParameterString'>), which is interpreted in pipeline execution time only. As the function needs to evaluate the argument value in SDK compile time, the default_value of this Parameter object will be used to override it. Please make sure the default_value is valid.\n",
      "INFO:sagemaker.image_uris:Defaulting to only available Python version: py3\n",
      "WARNING:sagemaker.workflow.utilities:The input argument instance_type of function (sagemaker.image_uris.retrieve) is a pipeline variable (<class 'sagemaker.workflow.parameters.ParameterString'>), which is interpreted in pipeline execution time only. As the function needs to evaluate the argument value in SDK compile time, the default_value of this Parameter object will be used to override it. Please make sure the default_value is valid.\n",
      "INFO:sagemaker.image_uris:Defaulting to the only supported framework/algorithm version: 1.0.\n",
      "INFO:sagemaker.image_uris:Ignoring unnecessary instance type: None.\n",
      "WARNING:sagemaker.deprecations:The class JsonGet has been renamed in sagemaker>=2.\n",
      "See: https://sagemaker.readthedocs.io/en/stable/v2.html for details.\n"
     ]
    }
   ],
   "source": [
    "from pipelines.customerchurn.pipeline import get_pipeline\n",
    "\n",
    "pipeline = get_pipeline(\n",
    "    region = region,\n",
    "    role=role,\n",
    "    default_bucket=default_bucket,\n",
    "    model_package_group_name=model_package_group_name,\n",
    "    pipeline_name=pipeline_name,\n",
    "    custom_image_uri=clarify_image,\n",
    "    sklearn_processor_version=sklearn_processor_version\n",
    ")"
   ]
  },
  {
   "cell_type": "code",
   "execution_count": 48,
   "metadata": {},
   "outputs": [
    {
     "name": "stderr",
     "output_type": "stream",
     "text": [
      "WARNING:sagemaker.workflow.utilities:Popping out 'ProcessingJobName' from the pipeline definition by default since it will be overridden at pipeline execution time. Please utilize the PipelineDefinitionConfig to persist this field in the pipeline definition if desired.\n",
      "WARNING:sagemaker.estimator:No finished training job found associated with this estimator. Please make sure this estimator is only used for building workflow config\n",
      "WARNING:sagemaker.estimator:No finished training job found associated with this estimator. Please make sure this estimator is only used for building workflow config\n",
      "WARNING:sagemaker.workflow.utilities:Popping out 'HyperParameterTuningJobName' from the pipeline definition by default since it will be overridden at pipeline execution time. Please utilize the PipelineDefinitionConfig to persist this field in the pipeline definition if desired.\n",
      "WARNING:sagemaker.workflow.utilities:Popping out 'ProcessingJobName' from the pipeline definition by default since it will be overridden at pipeline execution time. Please utilize the PipelineDefinitionConfig to persist this field in the pipeline definition if desired.\n",
      "WARNING:sagemaker.estimator:No finished training job found associated with this estimator. Please make sure this estimator is only used for building workflow config\n",
      "WARNING:sagemaker.workflow._utils:Popping out 'CertifyForMarketplace' from the pipeline definition since it will be overridden in pipeline execution time.\n",
      "WARNING:sagemaker.workflow.utilities:Popping out 'ModelPackageName' from the pipeline definition by default since it will be overridden at pipeline execution time. Please utilize the PipelineDefinitionConfig to persist this field in the pipeline definition if desired.\n",
      "WARNING:sagemaker.workflow.utilities:Popping out 'ModelName' from the pipeline definition by default since it will be overridden at pipeline execution time. Please utilize the PipelineDefinitionConfig to persist this field in the pipeline definition if desired.\n",
      "WARNING:sagemaker.workflow.utilities:Popping out 'ProcessingJobName' from the pipeline definition by default since it will be overridden at pipeline execution time. Please utilize the PipelineDefinitionConfig to persist this field in the pipeline definition if desired.\n",
      "WARNING:sagemaker.workflow.utilities:Popping out 'TransformJobName' from the pipeline definition by default since it will be overridden at pipeline execution time. Please utilize the PipelineDefinitionConfig to persist this field in the pipeline definition if desired.\n",
      "WARNING:sagemaker.workflow.utilities:Popping out 'ProcessingJobName' from the pipeline definition by default since it will be overridden at pipeline execution time. Please utilize the PipelineDefinitionConfig to persist this field in the pipeline definition if desired.\n"
     ]
    },
    {
     "data": {
      "text/plain": [
       "'{\"Version\": \"2020-12-01\", \"Metadata\": {}, \"Parameters\": [{\"Name\": \"ProcessingInstanceType\", \"Type\": \"String\", \"DefaultValue\": \"ml.m5.xlarge\"}, {\"Name\": \"ProcessingInstanceCount\", \"Type\": \"Integer\", \"DefaultValue\": 1}, {\"Name\": \"TrainingInstanceType\", \"Type\": \"String\", \"DefaultValue\": \"ml.m5.xlarge\"}, {\"Name\": \"InputData\", \"Type\": \"String\", \"DefaultValue\": \"s3://storeretaildatasetchurnpredictiontest/data/storedata_total.csv\"}, {\"Name\": \"BatchData\", \"Type\": \"String\", \"DefaultValue\": \"s3://storeretaildatasetchurnpredictiontest/data/batch/batch.csv\"}], \"PipelineExperimentConfig\": {\"ExperimentName\": {\"Get\": \"Execution.PipelineName\"}, \"TrialName\": {\"Get\": \"Execution.PipelineExecutionId\"}}, \"Steps\": [{\"Name\": \"ChurnModelProcess\", \"Type\": \"Processing\", \"Arguments\": {\"ProcessingResources\": {\"ClusterConfig\": {\"InstanceType\": {\"Get\": \"Parameters.ProcessingInstanceType\"}, \"InstanceCount\": {\"Get\": \"Parameters.ProcessingInstanceCount\"}, \"VolumeSizeInGB\": 30}}, \"AppSpecification\": {\"ImageUri\": \"783357654285.dkr.ecr.ap-southeast-2.amazonaws.com/sagemaker-scikit-learn:0.23-1-cpu-py3\", \"ContainerEntrypoint\": [\"python3\", \"/opt/ml/processing/input/code/preprocess.py\"]}, \"RoleArn\": \"arn:aws:iam::448049806778:role/service-role/AmazonSageMaker-ExecutionRole-20241028T222872\", \"ProcessingInputs\": [{\"InputName\": \"input-1\", \"AppManaged\": false, \"S3Input\": {\"S3Uri\": {\"Get\": \"Parameters.InputData\"}, \"LocalPath\": \"/opt/ml/processing/input\", \"S3DataType\": \"S3Prefix\", \"S3InputMode\": \"File\", \"S3DataDistributionType\": \"FullyReplicated\", \"S3CompressionType\": \"None\"}}, {\"InputName\": \"code\", \"AppManaged\": false, \"S3Input\": {\"S3Uri\": \"s3://storeretaildatasetchurnpredictiontest/input/code/preprocess.py\", \"LocalPath\": \"/opt/ml/processing/input/code\", \"S3DataType\": \"S3Prefix\", \"S3InputMode\": \"File\", \"S3DataDistributionType\": \"FullyReplicated\", \"S3CompressionType\": \"None\"}}], \"ProcessingOutputConfig\": {\"Outputs\": [{\"OutputName\": \"train\", \"AppManaged\": false, \"S3Output\": {\"S3Uri\": \"s3://storeretaildatasetchurnpredictiontest/output/train\", \"LocalPath\": \"/opt/ml/processing/train\", \"S3UploadMode\": \"EndOfJob\"}}, {\"OutputName\": \"validation\", \"AppManaged\": false, \"S3Output\": {\"S3Uri\": \"s3://storeretaildatasetchurnpredictiontest/output/validation\", \"LocalPath\": \"/opt/ml/processing/validation\", \"S3UploadMode\": \"EndOfJob\"}}, {\"OutputName\": \"test\", \"AppManaged\": false, \"S3Output\": {\"S3Uri\": \"s3://storeretaildatasetchurnpredictiontest/output/test\", \"LocalPath\": \"/opt/ml/processing/test\", \"S3UploadMode\": \"EndOfJob\"}}]}}}, {\"Name\": \"ChurnHyperParameterTuning\", \"Type\": \"Tuning\", \"Arguments\": {\"HyperParameterTuningJobConfig\": {\"Strategy\": \"Bayesian\", \"ResourceLimits\": {\"MaxNumberOfTrainingJobs\": 2, \"MaxParallelTrainingJobs\": 2}, \"TrainingJobEarlyStoppingType\": \"Off\", \"HyperParameterTuningJobObjective\": {\"Type\": \"Maximize\", \"MetricName\": \"validation:auc\"}, \"ParameterRanges\": {\"ContinuousParameterRanges\": [{\"Name\": \"eta\", \"MinValue\": \"0\", \"MaxValue\": \"1\", \"ScalingType\": \"Auto\"}, {\"Name\": \"min_child_weight\", \"MinValue\": \"1\", \"MaxValue\": \"10\", \"ScalingType\": \"Auto\"}, {\"Name\": \"alpha\", \"MinValue\": \"0\", \"MaxValue\": \"2\", \"ScalingType\": \"Auto\"}], \"CategoricalParameterRanges\": [], \"IntegerParameterRanges\": [{\"Name\": \"max_depth\", \"MinValue\": \"1\", \"MaxValue\": \"10\", \"ScalingType\": \"Auto\"}]}}, \"TrainingJobDefinition\": {\"StaticHyperParameters\": {\"eval_metric\": \"auc\", \"objective\": \"binary:logistic\", \"num_round\": \"100\", \"rate_drop\": \"0.3\", \"tweedie_variance_power\": \"1.4\"}, \"RoleArn\": \"arn:aws:iam::448049806778:role/service-role/AmazonSageMaker-ExecutionRole-20241028T222872\", \"OutputDataConfig\": {\"S3OutputPath\": \"s3://storeretaildatasetchurnpredictiontest/output\"}, \"StoppingCondition\": {\"MaxRuntimeInSeconds\": 86400}, \"HyperParameterTuningResourceConfig\": {\"InstanceCount\": 1, \"InstanceType\": {\"Get\": \"Parameters.TrainingInstanceType\"}, \"VolumeSizeInGB\": 30}, \"AlgorithmSpecification\": {\"TrainingInputMode\": \"File\", \"TrainingImage\": \"783357654285.dkr.ecr.ap-southeast-2.amazonaws.com/sagemaker-xgboost:1.0-1-cpu-py3\"}, \"InputDataConfig\": [{\"DataSource\": {\"S3DataSource\": {\"S3DataType\": \"S3Prefix\", \"S3Uri\": {\"Get\": \"Steps.ChurnModelProcess.ProcessingOutputConfig.Outputs[\\'train\\'].S3Output.S3Uri\"}, \"S3DataDistributionType\": \"FullyReplicated\"}}, \"ContentType\": \"text/csv\", \"ChannelName\": \"train\"}, {\"DataSource\": {\"S3DataSource\": {\"S3DataType\": \"S3Prefix\", \"S3Uri\": {\"Get\": \"Steps.ChurnModelProcess.ProcessingOutputConfig.Outputs[\\'validation\\'].S3Output.S3Uri\"}, \"S3DataDistributionType\": \"FullyReplicated\"}}, \"ContentType\": \"text/csv\", \"ChannelName\": \"validation\"}]}}}, {\"Name\": \"ChurnEvalBestModel\", \"Type\": \"Processing\", \"Arguments\": {\"ProcessingResources\": {\"ClusterConfig\": {\"InstanceType\": {\"Get\": \"Parameters.ProcessingInstanceType\"}, \"InstanceCount\": 1, \"VolumeSizeInGB\": 30}}, \"AppSpecification\": {\"ImageUri\": \"783357654285.dkr.ecr.ap-southeast-2.amazonaws.com/sagemaker-xgboost:1.0-1-cpu-py3\", \"ContainerEntrypoint\": [\"python3\", \"/opt/ml/processing/input/code/evaluate.py\"]}, \"RoleArn\": \"arn:aws:iam::448049806778:role/service-role/AmazonSageMaker-ExecutionRole-20241028T222872\", \"ProcessingInputs\": [{\"InputName\": \"input-1\", \"AppManaged\": false, \"S3Input\": {\"S3Uri\": {\"Std:Join\": {\"On\": \"/\", \"Values\": [\"s3:/\", \"storeretaildatasetchurnpredictiontest\", \"output\", {\"Get\": \"Steps.ChurnHyperParameterTuning.TrainingJobSummaries[0].TrainingJobName\"}, \"output/model.tar.gz\"]}}, \"LocalPath\": \"/opt/ml/processing/model\", \"S3DataType\": \"S3Prefix\", \"S3InputMode\": \"File\", \"S3DataDistributionType\": \"FullyReplicated\", \"S3CompressionType\": \"None\"}}, {\"InputName\": \"input-2\", \"AppManaged\": false, \"S3Input\": {\"S3Uri\": {\"Get\": \"Steps.ChurnModelProcess.ProcessingOutputConfig.Outputs[\\'test\\'].S3Output.S3Uri\"}, \"LocalPath\": \"/opt/ml/processing/test\", \"S3DataType\": \"S3Prefix\", \"S3InputMode\": \"File\", \"S3DataDistributionType\": \"FullyReplicated\", \"S3CompressionType\": \"None\"}}, {\"InputName\": \"code\", \"AppManaged\": false, \"S3Input\": {\"S3Uri\": \"s3://storeretaildatasetchurnpredictiontest/input/code/evaluate.py\", \"LocalPath\": \"/opt/ml/processing/input/code\", \"S3DataType\": \"S3Prefix\", \"S3InputMode\": \"File\", \"S3DataDistributionType\": \"FullyReplicated\", \"S3CompressionType\": \"None\"}}], \"ProcessingOutputConfig\": {\"Outputs\": [{\"OutputName\": \"evaluation\", \"AppManaged\": false, \"S3Output\": {\"S3Uri\": \"s3://storeretaildatasetchurnpredictiontest/output/evaluation\", \"LocalPath\": \"/opt/ml/processing/evaluation\", \"S3UploadMode\": \"EndOfJob\"}}]}}, \"PropertyFiles\": [{\"PropertyFileName\": \"ChurnEvaluationReport\", \"OutputName\": \"evaluation\", \"FilePath\": \"evaluation.json\"}]}, {\"Name\": \"CheckAUCScoreChurnEvaluation\", \"Type\": \"Condition\", \"Arguments\": {\"Conditions\": [{\"Type\": \"GreaterThan\", \"LeftValue\": {\"Std:JsonGet\": {\"PropertyFile\": {\"Get\": \"Steps.ChurnEvalBestModel.PropertyFiles.ChurnEvaluationReport\"}, \"Path\": \"classification_metrics.auc_score.value\"}}, \"RightValue\": 0.75}], \"IfSteps\": [{\"Name\": \"RegisterChurnModel-RegisterModel\", \"Type\": \"RegisterModel\", \"Arguments\": {\"ModelPackageGroupName\": \"ChurnModelPackageGroup\", \"ModelMetrics\": {\"ModelQuality\": {\"Statistics\": {\"ContentType\": \"application/json\", \"S3Uri\": \"s3://storeretaildatasetchurnpredictiontest/evaluation.json\"}}, \"Bias\": {}, \"Explainability\": {}}, \"InferenceSpecification\": {\"Containers\": [{\"Image\": \"783357654285.dkr.ecr.ap-southeast-2.amazonaws.com/sagemaker-xgboost:1.0-1-cpu-py3\", \"ModelDataUrl\": {\"Std:Join\": {\"On\": \"/\", \"Values\": [\"s3:/\", \"storeretaildatasetchurnpredictiontest\", \"output\", {\"Get\": \"Steps.ChurnHyperParameterTuning.TrainingJobSummaries[0].TrainingJobName\"}, \"output/model.tar.gz\"]}}}], \"SupportedContentTypes\": [\"text/csv\"], \"SupportedResponseMIMETypes\": [\"text/csv\"], \"SupportedRealtimeInferenceInstanceTypes\": [\"ml.t2.medium\", \"ml.m5.large\"], \"SupportedTransformInstanceTypes\": [\"ml.m5.large\"]}, \"ModelApprovalStatus\": \"PendingManualApproval\", \"SkipModelValidation\": \"None\"}}, {\"Name\": \"ChurnCreateModel\", \"Type\": \"Model\", \"Arguments\": {\"ExecutionRoleArn\": \"arn:aws:iam::448049806778:role/service-role/AmazonSageMaker-ExecutionRole-20241028T222872\", \"PrimaryContainer\": {\"Image\": \"783357654285.dkr.ecr.ap-southeast-2.amazonaws.com/sagemaker-xgboost:1.0-1-cpu-py3\", \"Environment\": {}, \"ModelDataUrl\": {\"Std:Join\": {\"On\": \"/\", \"Values\": [\"s3:/\", \"storeretaildatasetchurnpredictiontest\", \"output\", {\"Get\": \"Steps.ChurnHyperParameterTuning.TrainingJobSummaries[0].TrainingJobName\"}, \"output/model.tar.gz\"]}}}}}, {\"Name\": \"ChurnModelConfigFile\", \"Type\": \"Processing\", \"Arguments\": {\"ProcessingResources\": {\"ClusterConfig\": {\"InstanceType\": {\"Get\": \"Parameters.ProcessingInstanceType\"}, \"InstanceCount\": 1, \"VolumeSizeInGB\": 30}}, \"AppSpecification\": {\"ImageUri\": \"783357654285.dkr.ecr.ap-southeast-2.amazonaws.com/sagemaker-scikit-learn:0.23-1-cpu-py3\", \"ContainerArguments\": [\"--modelname\", {\"Get\": \"Steps.ChurnCreateModel.ModelName\"}, \"--bias-report-output-path\", \"s3://storeretaildatasetchurnpredictiontest/clarify-output/bias\", \"--clarify-instance-type\", \"ml.c5.xlarge\", \"--default-bucket\", \"storeretaildatasetchurnpredictiontest\", \"--num-baseline-samples\", \"50\", \"--instance-count\", \"1\"], \"ContainerEntrypoint\": [\"python3\", \"/opt/ml/processing/input/code/generate_config.py\"]}, \"RoleArn\": \"arn:aws:iam::448049806778:role/service-role/AmazonSageMaker-ExecutionRole-20241028T222872\", \"ProcessingInputs\": [{\"InputName\": \"code\", \"AppManaged\": false, \"S3Input\": {\"S3Uri\": \"s3://storeretaildatasetchurnpredictiontest/input/code/generate_config.py\", \"LocalPath\": \"/opt/ml/processing/input/code\", \"S3DataType\": \"S3Prefix\", \"S3InputMode\": \"File\", \"S3DataDistributionType\": \"FullyReplicated\", \"S3CompressionType\": \"None\"}}]}, \"DependsOn\": [\"ChurnCreateModel\"]}, {\"Name\": \"ChurnTransform\", \"Type\": \"Transform\", \"Arguments\": {\"ModelName\": {\"Get\": \"Steps.ChurnCreateModel.ModelName\"}, \"TransformInput\": {\"DataSource\": {\"S3DataSource\": {\"S3DataType\": \"S3Prefix\", \"S3Uri\": {\"Get\": \"Parameters.BatchData\"}}}, \"ContentType\": \"text/csv\"}, \"TransformOutput\": {\"S3OutputPath\": \"s3://storeretaildatasetchurnpredictiontest/ChurnTransform\"}, \"TransformResources\": {\"InstanceCount\": 1, \"InstanceType\": \"ml.m5.xlarge\"}}}, {\"Name\": \"ClarifyProcessingStep\", \"Type\": \"Processing\", \"Arguments\": {\"ProcessingResources\": {\"ClusterConfig\": {\"InstanceType\": \"ml.c5.xlarge\", \"InstanceCount\": 1, \"VolumeSizeInGB\": 30}}, \"AppSpecification\": {\"ImageUri\": \"007051062584.dkr.ecr.ap-southeast-2.amazonaws.com/sagemaker-clarify-processing:1.0\"}, \"RoleArn\": \"arn:aws:iam::448049806778:role/service-role/AmazonSageMaker-ExecutionRole-20241028T222872\", \"ProcessingInputs\": [{\"InputName\": \"dataset\", \"AppManaged\": false, \"S3Input\": {\"S3Uri\": \"s3://storeretaildatasetchurnpredictiontest/output/train/train.csv\", \"LocalPath\": \"/opt/ml/processing/input/data\", \"S3DataType\": \"S3Prefix\", \"S3InputMode\": \"File\", \"S3DataDistributionType\": \"FullyReplicated\", \"S3CompressionType\": \"None\"}}, {\"InputName\": \"analysis_config\", \"AppManaged\": false, \"S3Input\": {\"S3Uri\": \"s3://storeretaildatasetchurnpredictiontest/clarify-output/bias/analysis_config.json\", \"LocalPath\": \"/opt/ml/processing/input/analysis_config\", \"S3DataType\": \"S3Prefix\", \"S3InputMode\": \"File\", \"S3DataDistributionType\": \"FullyReplicated\", \"S3CompressionType\": \"None\"}}], \"ProcessingOutputConfig\": {\"Outputs\": [{\"OutputName\": \"analysis_result\", \"AppManaged\": false, \"S3Output\": {\"S3Uri\": \"s3://storeretaildatasetchurnpredictiontest/clarify-output/bias\", \"LocalPath\": \"/opt/ml/processing/output\", \"S3UploadMode\": \"EndOfJob\"}}]}}, \"DependsOn\": [\"ChurnModelConfigFile\"]}], \"ElseSteps\": []}}]}'"
      ]
     },
     "execution_count": 48,
     "metadata": {},
     "output_type": "execute_result"
    }
   ],
   "source": [
    "pipeline.definition()"
   ]
  },
  {
   "cell_type": "markdown",
   "metadata": {},
   "source": [
    "## Step 5: Submit the pipeline to SageMaker and start execution"
   ]
  },
  {
   "cell_type": "code",
   "execution_count": 49,
   "metadata": {},
   "outputs": [
    {
     "name": "stderr",
     "output_type": "stream",
     "text": [
      "WARNING:sagemaker.workflow.utilities:Popping out 'ProcessingJobName' from the pipeline definition by default since it will be overridden at pipeline execution time. Please utilize the PipelineDefinitionConfig to persist this field in the pipeline definition if desired.\n",
      "WARNING:sagemaker.estimator:No finished training job found associated with this estimator. Please make sure this estimator is only used for building workflow config\n",
      "WARNING:sagemaker.estimator:No finished training job found associated with this estimator. Please make sure this estimator is only used for building workflow config\n",
      "WARNING:sagemaker.workflow.utilities:Popping out 'HyperParameterTuningJobName' from the pipeline definition by default since it will be overridden at pipeline execution time. Please utilize the PipelineDefinitionConfig to persist this field in the pipeline definition if desired.\n",
      "WARNING:sagemaker.workflow.utilities:Popping out 'ProcessingJobName' from the pipeline definition by default since it will be overridden at pipeline execution time. Please utilize the PipelineDefinitionConfig to persist this field in the pipeline definition if desired.\n",
      "WARNING:sagemaker.estimator:No finished training job found associated with this estimator. Please make sure this estimator is only used for building workflow config\n",
      "WARNING:sagemaker.workflow._utils:Popping out 'CertifyForMarketplace' from the pipeline definition since it will be overridden in pipeline execution time.\n",
      "WARNING:sagemaker.workflow.utilities:Popping out 'ModelPackageName' from the pipeline definition by default since it will be overridden at pipeline execution time. Please utilize the PipelineDefinitionConfig to persist this field in the pipeline definition if desired.\n",
      "WARNING:sagemaker.workflow.utilities:Popping out 'ModelName' from the pipeline definition by default since it will be overridden at pipeline execution time. Please utilize the PipelineDefinitionConfig to persist this field in the pipeline definition if desired.\n",
      "WARNING:sagemaker.workflow.utilities:Popping out 'ProcessingJobName' from the pipeline definition by default since it will be overridden at pipeline execution time. Please utilize the PipelineDefinitionConfig to persist this field in the pipeline definition if desired.\n",
      "WARNING:sagemaker.workflow.utilities:Popping out 'TransformJobName' from the pipeline definition by default since it will be overridden at pipeline execution time. Please utilize the PipelineDefinitionConfig to persist this field in the pipeline definition if desired.\n",
      "WARNING:sagemaker.workflow.utilities:Popping out 'ProcessingJobName' from the pipeline definition by default since it will be overridden at pipeline execution time. Please utilize the PipelineDefinitionConfig to persist this field in the pipeline definition if desired.\n"
     ]
    },
    {
     "data": {
      "text/plain": [
       "{'PipelineArn': 'arn:aws:sagemaker:ap-southeast-2:448049806778:pipeline/ChurnModelSMPipeline',\n",
       " 'ResponseMetadata': {'RequestId': '568159a9-f7cc-403e-b552-17e52739d4df',\n",
       "  'HTTPStatusCode': 200,\n",
       "  'HTTPHeaders': {'x-amzn-requestid': '568159a9-f7cc-403e-b552-17e52739d4df',\n",
       "   'content-type': 'application/x-amz-json-1.1',\n",
       "   'content-length': '93',\n",
       "   'date': 'Sat, 08 Feb 2025 20:58:59 GMT'},\n",
       "  'RetryAttempts': 0}}"
      ]
     },
     "execution_count": 49,
     "metadata": {},
     "output_type": "execute_result"
    }
   ],
   "source": [
    "pipeline.upsert(role_arn=role)"
   ]
  },
  {
   "cell_type": "markdown",
   "metadata": {},
   "source": [
    "Start Pipeline Execution"
   ]
  },
  {
   "cell_type": "code",
   "execution_count": 50,
   "metadata": {},
   "outputs": [],
   "source": [
    "execution = pipeline.start()"
   ]
  },
  {
   "cell_type": "markdown",
   "metadata": {},
   "source": [
    "Now we describe execution instance and list the steps in the execution to find out more about the execution."
   ]
  },
  {
   "cell_type": "code",
   "execution_count": 51,
   "metadata": {},
   "outputs": [
    {
     "data": {
      "text/plain": [
       "{'PipelineArn': 'arn:aws:sagemaker:ap-southeast-2:448049806778:pipeline/ChurnModelSMPipeline',\n",
       " 'PipelineExecutionArn': 'arn:aws:sagemaker:ap-southeast-2:448049806778:pipeline/ChurnModelSMPipeline/execution/4sow9e12q57y',\n",
       " 'PipelineExecutionDisplayName': 'execution-1739048344179',\n",
       " 'PipelineExecutionStatus': 'Executing',\n",
       " 'PipelineExperimentConfig': {'ExperimentName': 'churnmodelsmpipeline',\n",
       "  'TrialName': '4sow9e12q57y'},\n",
       " 'CreationTime': datetime.datetime(2025, 2, 8, 20, 59, 4, 97000, tzinfo=tzlocal()),\n",
       " 'LastModifiedTime': datetime.datetime(2025, 2, 8, 20, 59, 4, 97000, tzinfo=tzlocal()),\n",
       " 'CreatedBy': {'UserProfileArn': 'arn:aws:sagemaker:ap-southeast-2:448049806778:user-profile/d-uvlaog8rhyr6/Nathan',\n",
       "  'UserProfileName': 'Nathan',\n",
       "  'DomainId': 'd-uvlaog8rhyr6',\n",
       "  'IamIdentity': {'Arn': 'arn:aws:sts::448049806778:assumed-role/AmazonSageMaker-ExecutionRole-20241028T222872/SageMaker',\n",
       "   'PrincipalId': 'AROAWQUOZPW5NNU23VJI2:SageMaker'}},\n",
       " 'LastModifiedBy': {'UserProfileArn': 'arn:aws:sagemaker:ap-southeast-2:448049806778:user-profile/d-uvlaog8rhyr6/Nathan',\n",
       "  'UserProfileName': 'Nathan',\n",
       "  'DomainId': 'd-uvlaog8rhyr6',\n",
       "  'IamIdentity': {'Arn': 'arn:aws:sts::448049806778:assumed-role/AmazonSageMaker-ExecutionRole-20241028T222872/SageMaker',\n",
       "   'PrincipalId': 'AROAWQUOZPW5NNU23VJI2:SageMaker'}},\n",
       " 'ResponseMetadata': {'RequestId': '9998b7cd-4edd-4562-bd99-01f647980eed',\n",
       "  'HTTPStatusCode': 200,\n",
       "  'HTTPHeaders': {'x-amzn-requestid': '9998b7cd-4edd-4562-bd99-01f647980eed',\n",
       "   'content-type': 'application/x-amz-json-1.1',\n",
       "   'content-length': '1153',\n",
       "   'date': 'Sat, 08 Feb 2025 20:59:06 GMT'},\n",
       "  'RetryAttempts': 0}}"
      ]
     },
     "execution_count": 51,
     "metadata": {},
     "output_type": "execute_result"
    }
   ],
   "source": [
    "execution.describe()"
   ]
  },
  {
   "cell_type": "markdown",
   "metadata": {},
   "source": [
    "We can list the execution steps to check out the status and artifacts:"
   ]
  },
  {
   "cell_type": "code",
   "execution_count": 52,
   "metadata": {},
   "outputs": [
    {
     "data": {
      "text/plain": [
       "[{'StepName': 'ChurnModelProcess',\n",
       "  'StartTime': datetime.datetime(2025, 2, 8, 20, 59, 5, 290000, tzinfo=tzlocal()),\n",
       "  'StepStatus': 'Executing',\n",
       "  'Metadata': {'ProcessingJob': {'Arn': 'arn:aws:sagemaker:ap-southeast-2:448049806778:processing-job/pipelines-4sow9e12q57y-ChurnModelProcess-42HwCKywHj'}},\n",
       "  'AttemptCount': 1}]"
      ]
     },
     "execution_count": 52,
     "metadata": {},
     "output_type": "execute_result"
    }
   ],
   "source": [
    "execution.list_steps()"
   ]
  },
  {
   "cell_type": "code",
   "execution_count": null,
   "metadata": {},
   "outputs": [],
   "source": []
  }
 ],
 "metadata": {
  "instance_type": "ml.t3.medium",
  "kernelspec": {
   "display_name": "Python 3 (ipykernel)",
   "language": "python",
   "name": "python3"
  },
  "language_info": {
   "codemirror_mode": {
    "name": "ipython",
    "version": 3
   },
   "file_extension": ".py",
   "mimetype": "text/x-python",
   "name": "python",
   "nbconvert_exporter": "python",
   "pygments_lexer": "ipython3",
   "version": "3.11.11"
  }
 },
 "nbformat": 4,
 "nbformat_minor": 4
}
